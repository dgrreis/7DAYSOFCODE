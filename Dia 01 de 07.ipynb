{
 "cells": [
  {
   "cell_type": "markdown",
   "id": "e16c7f17",
   "metadata": {},
   "source": [
    "# Extração e tratamento de dados"
   ]
  },
  {
   "cell_type": "code",
   "execution_count": 272,
   "id": "d1c8fe8b",
   "metadata": {},
   "outputs": [],
   "source": [
    "#Lidar com dados nulos (deletar ou imputar um valor novo, por exemplo); \n",
    "## ok\n",
    "#remover colunas que não trazem nenhuma informação; \n",
    "## ok\n",
    "#processar datas que estão em formato incorreto;\n",
    "## não consegui ainda\n",
    "#alterar o tipo da coluna\n",
    "## também não consegui usar o astype???\n",
    "#uma coluna que é numérica está como texto no Pandas; \n",
    "#Que tal juntar dados de vários anos em um grande dataset e aplicar técnicas de limpeza e processamento dos dados?"
   ]
  },
  {
   "cell_type": "code",
   "execution_count": 273,
   "id": "97e67006",
   "metadata": {},
   "outputs": [],
   "source": [
    "## extraindo o dataset csv"
   ]
  },
  {
   "cell_type": "code",
   "execution_count": 274,
   "id": "fcf241d9",
   "metadata": {},
   "outputs": [],
   "source": [
    "import pandas as pd"
   ]
  },
  {
   "cell_type": "code",
   "execution_count": 275,
   "id": "bf6ff85f",
   "metadata": {},
   "outputs": [],
   "source": [
    "dados2020 = pd.read_excel('dados_ceaps\\despesa_ceaps_2020-e.xlsx')\n",
    "dados2021 = pd.read_excel('dados_ceaps\\despesa_ceaps_2021-e.xlsx')\n",
    "dados2022 = pd.read_excel('dados_ceaps\\despesa_ceaps_2022-e.xlsx')"
   ]
  },
  {
   "cell_type": "code",
   "execution_count": 276,
   "id": "0ea2ac88",
   "metadata": {},
   "outputs": [
    {
     "data": {
      "text/html": [
       "<div>\n",
       "<style scoped>\n",
       "    .dataframe tbody tr th:only-of-type {\n",
       "        vertical-align: middle;\n",
       "    }\n",
       "\n",
       "    .dataframe tbody tr th {\n",
       "        vertical-align: top;\n",
       "    }\n",
       "\n",
       "    .dataframe thead th {\n",
       "        text-align: right;\n",
       "    }\n",
       "</style>\n",
       "<table border=\"1\" class=\"dataframe\">\n",
       "  <thead>\n",
       "    <tr style=\"text-align: right;\">\n",
       "      <th></th>\n",
       "      <th>ANO</th>\n",
       "      <th>MES</th>\n",
       "      <th>SENADOR</th>\n",
       "      <th>TIPO_DESPESA</th>\n",
       "      <th>CNPJ_CPF</th>\n",
       "      <th>FORNECEDOR</th>\n",
       "      <th>DOCUMENTO</th>\n",
       "      <th>DATA</th>\n",
       "      <th>DETALHAMENTO</th>\n",
       "      <th>VALOR_REEMBOLSADO</th>\n",
       "      <th>COD_DOCUMENTO</th>\n",
       "    </tr>\n",
       "  </thead>\n",
       "  <tbody>\n",
       "    <tr>\n",
       "      <th>0</th>\n",
       "      <td>2020</td>\n",
       "      <td>1</td>\n",
       "      <td>ACIR GURGACZ</td>\n",
       "      <td>Aluguel de imóveis para escritório político, c...</td>\n",
       "      <td>05.914.650/0001-66</td>\n",
       "      <td>ENERGISA</td>\n",
       "      <td>14764742</td>\n",
       "      <td>2020-01-06 00:00:00</td>\n",
       "      <td>Despesa com energia elétrica para uso do escri...</td>\n",
       "      <td>122.62</td>\n",
       "      <td>2141820</td>\n",
       "    </tr>\n",
       "    <tr>\n",
       "      <th>1</th>\n",
       "      <td>2020</td>\n",
       "      <td>1</td>\n",
       "      <td>ACIR GURGACZ</td>\n",
       "      <td>Aluguel de imóveis para escritório político, c...</td>\n",
       "      <td>05.914.650/0001-66</td>\n",
       "      <td>ENERGISA</td>\n",
       "      <td>14764741</td>\n",
       "      <td>2020-01-06 00:00:00</td>\n",
       "      <td>Despesa com energia elétrica para uso do escri...</td>\n",
       "      <td>137.75</td>\n",
       "      <td>2141818</td>\n",
       "    </tr>\n",
       "    <tr>\n",
       "      <th>2</th>\n",
       "      <td>2020</td>\n",
       "      <td>1</td>\n",
       "      <td>ACIR GURGACZ</td>\n",
       "      <td>Aluguel de imóveis para escritório político, c...</td>\n",
       "      <td>062.135.728-64</td>\n",
       "      <td>FERNANDO WALDEIR PACINI e ANA LUCIA DA SILVA S...</td>\n",
       "      <td>001/2020</td>\n",
       "      <td>2020-01-06 00:00:00</td>\n",
       "      <td>Despesa com pagamento de aluguel de imóvel par...</td>\n",
       "      <td>1000.00</td>\n",
       "      <td>2139025</td>\n",
       "    </tr>\n",
       "    <tr>\n",
       "      <th>3</th>\n",
       "      <td>2020</td>\n",
       "      <td>1</td>\n",
       "      <td>ACIR GURGACZ</td>\n",
       "      <td>Aluguel de imóveis para escritório político, c...</td>\n",
       "      <td>004.948.028-63</td>\n",
       "      <td>GILBERTO PISELO DO NASCIMENTO</td>\n",
       "      <td>001/20</td>\n",
       "      <td>2020-01-02 00:00:00</td>\n",
       "      <td>Despesa com pagamento de aluguel de imóvel par...</td>\n",
       "      <td>6000.00</td>\n",
       "      <td>2139020</td>\n",
       "    </tr>\n",
       "    <tr>\n",
       "      <th>4</th>\n",
       "      <td>2020</td>\n",
       "      <td>1</td>\n",
       "      <td>ACIR GURGACZ</td>\n",
       "      <td>Aluguel de imóveis para escritório político, c...</td>\n",
       "      <td>05.423.963/0001-11</td>\n",
       "      <td>OI MÓVEL S.A.</td>\n",
       "      <td>333871612</td>\n",
       "      <td>2019-12-25 00:00:00</td>\n",
       "      <td>Despesa com pagamento de telefone para uso do ...</td>\n",
       "      <td>323.95</td>\n",
       "      <td>2139044</td>\n",
       "    </tr>\n",
       "  </tbody>\n",
       "</table>\n",
       "</div>"
      ],
      "text/plain": [
       "    ANO  MES       SENADOR                                       TIPO_DESPESA  \\\n",
       "0  2020    1  ACIR GURGACZ  Aluguel de imóveis para escritório político, c...   \n",
       "1  2020    1  ACIR GURGACZ  Aluguel de imóveis para escritório político, c...   \n",
       "2  2020    1  ACIR GURGACZ  Aluguel de imóveis para escritório político, c...   \n",
       "3  2020    1  ACIR GURGACZ  Aluguel de imóveis para escritório político, c...   \n",
       "4  2020    1  ACIR GURGACZ  Aluguel de imóveis para escritório político, c...   \n",
       "\n",
       "             CNPJ_CPF                                         FORNECEDOR  \\\n",
       "0  05.914.650/0001-66                                           ENERGISA   \n",
       "1  05.914.650/0001-66                                           ENERGISA   \n",
       "2      062.135.728-64  FERNANDO WALDEIR PACINI e ANA LUCIA DA SILVA S...   \n",
       "3      004.948.028-63                      GILBERTO PISELO DO NASCIMENTO   \n",
       "4  05.423.963/0001-11                                      OI MÓVEL S.A.   \n",
       "\n",
       "   DOCUMENTO                 DATA  \\\n",
       "0   14764742  2020-01-06 00:00:00   \n",
       "1   14764741  2020-01-06 00:00:00   \n",
       "2   001/2020  2020-01-06 00:00:00   \n",
       "3     001/20  2020-01-02 00:00:00   \n",
       "4  333871612  2019-12-25 00:00:00   \n",
       "\n",
       "                                        DETALHAMENTO  VALOR_REEMBOLSADO  \\\n",
       "0  Despesa com energia elétrica para uso do escri...             122.62   \n",
       "1  Despesa com energia elétrica para uso do escri...             137.75   \n",
       "2  Despesa com pagamento de aluguel de imóvel par...            1000.00   \n",
       "3  Despesa com pagamento de aluguel de imóvel par...            6000.00   \n",
       "4  Despesa com pagamento de telefone para uso do ...             323.95   \n",
       "\n",
       "   COD_DOCUMENTO  \n",
       "0        2141820  \n",
       "1        2141818  \n",
       "2        2139025  \n",
       "3        2139020  \n",
       "4        2139044  "
      ]
     },
     "execution_count": 276,
     "metadata": {},
     "output_type": "execute_result"
    }
   ],
   "source": [
    "dados2020.head(5)"
   ]
  },
  {
   "cell_type": "code",
   "execution_count": 277,
   "id": "0b62e44f",
   "metadata": {},
   "outputs": [
    {
     "data": {
      "text/html": [
       "<div>\n",
       "<style scoped>\n",
       "    .dataframe tbody tr th:only-of-type {\n",
       "        vertical-align: middle;\n",
       "    }\n",
       "\n",
       "    .dataframe tbody tr th {\n",
       "        vertical-align: top;\n",
       "    }\n",
       "\n",
       "    .dataframe thead th {\n",
       "        text-align: right;\n",
       "    }\n",
       "</style>\n",
       "<table border=\"1\" class=\"dataframe\">\n",
       "  <thead>\n",
       "    <tr style=\"text-align: right;\">\n",
       "      <th></th>\n",
       "      <th>ANO</th>\n",
       "      <th>MES</th>\n",
       "      <th>SENADOR</th>\n",
       "      <th>TIPO_DESPESA</th>\n",
       "      <th>CNPJ_CPF</th>\n",
       "      <th>FORNECEDOR</th>\n",
       "      <th>DOCUMENTO</th>\n",
       "      <th>DATA</th>\n",
       "      <th>DETALHAMENTO</th>\n",
       "      <th>VALOR_REEMBOLSADO</th>\n",
       "      <th>COD_DOCUMENTO</th>\n",
       "    </tr>\n",
       "  </thead>\n",
       "  <tbody>\n",
       "    <tr>\n",
       "      <th>0</th>\n",
       "      <td>2021</td>\n",
       "      <td>1</td>\n",
       "      <td>ACIR GURGACZ</td>\n",
       "      <td>Aluguel de imóveis para escritório político, c...</td>\n",
       "      <td>05.914.650/0001-66</td>\n",
       "      <td>ENERGISA</td>\n",
       "      <td>23489627</td>\n",
       "      <td>2021-01-21 00:00:00</td>\n",
       "      <td>Pagamento de energia elétrica para uso do escr...</td>\n",
       "      <td>75.29</td>\n",
       "      <td>2158003</td>\n",
       "    </tr>\n",
       "    <tr>\n",
       "      <th>1</th>\n",
       "      <td>2021</td>\n",
       "      <td>1</td>\n",
       "      <td>ACIR GURGACZ</td>\n",
       "      <td>Aluguel de imóveis para escritório político, c...</td>\n",
       "      <td>062.135.728-64</td>\n",
       "      <td>FERNANDO WALDEIR PACINI e ANA LUCIA DA SILVA S...</td>\n",
       "      <td>2021-01-01 00:00:00</td>\n",
       "      <td>2021-01-05 00:00:00</td>\n",
       "      <td>Despesa com pagamento de aluguel de imóvel par...</td>\n",
       "      <td>1000.00</td>\n",
       "      <td>2157367</td>\n",
       "    </tr>\n",
       "    <tr>\n",
       "      <th>2</th>\n",
       "      <td>2021</td>\n",
       "      <td>1</td>\n",
       "      <td>ACIR GURGACZ</td>\n",
       "      <td>Aluguel de imóveis para escritório político, c...</td>\n",
       "      <td>004.948.028-63</td>\n",
       "      <td>GILBERTO PISELO DO NASCIMENTO</td>\n",
       "      <td>001/21</td>\n",
       "      <td>2021-01-06 00:00:00</td>\n",
       "      <td>Despesa com aluguel de imóvel para uso do escr...</td>\n",
       "      <td>6000.00</td>\n",
       "      <td>2156383</td>\n",
       "    </tr>\n",
       "    <tr>\n",
       "      <th>3</th>\n",
       "      <td>2021</td>\n",
       "      <td>1</td>\n",
       "      <td>ACIR GURGACZ</td>\n",
       "      <td>Divulgação da atividade parlamentar</td>\n",
       "      <td>26.320.603/0001-64</td>\n",
       "      <td>INFORMANAHORA</td>\n",
       "      <td>10</td>\n",
       "      <td>2021-01-25 00:00:00</td>\n",
       "      <td>Divulgação da atividade parlamentar</td>\n",
       "      <td>1500.00</td>\n",
       "      <td>2154509</td>\n",
       "    </tr>\n",
       "    <tr>\n",
       "      <th>4</th>\n",
       "      <td>2021</td>\n",
       "      <td>1</td>\n",
       "      <td>ACIR GURGACZ</td>\n",
       "      <td>Divulgação da atividade parlamentar</td>\n",
       "      <td>13.659.201/0001-47</td>\n",
       "      <td>LINHA PURPURA FOTO E VIDEO LTDA</td>\n",
       "      <td>44</td>\n",
       "      <td>2021-01-07 00:00:00</td>\n",
       "      <td>Divulgação da atividade parlamentar</td>\n",
       "      <td>6000.00</td>\n",
       "      <td>2154507</td>\n",
       "    </tr>\n",
       "  </tbody>\n",
       "</table>\n",
       "</div>"
      ],
      "text/plain": [
       "    ANO  MES       SENADOR                                       TIPO_DESPESA  \\\n",
       "0  2021    1  ACIR GURGACZ  Aluguel de imóveis para escritório político, c...   \n",
       "1  2021    1  ACIR GURGACZ  Aluguel de imóveis para escritório político, c...   \n",
       "2  2021    1  ACIR GURGACZ  Aluguel de imóveis para escritório político, c...   \n",
       "3  2021    1  ACIR GURGACZ                Divulgação da atividade parlamentar   \n",
       "4  2021    1  ACIR GURGACZ                Divulgação da atividade parlamentar   \n",
       "\n",
       "             CNPJ_CPF                                         FORNECEDOR  \\\n",
       "0  05.914.650/0001-66                                           ENERGISA   \n",
       "1      062.135.728-64  FERNANDO WALDEIR PACINI e ANA LUCIA DA SILVA S...   \n",
       "2      004.948.028-63                      GILBERTO PISELO DO NASCIMENTO   \n",
       "3  26.320.603/0001-64                                      INFORMANAHORA   \n",
       "4  13.659.201/0001-47                    LINHA PURPURA FOTO E VIDEO LTDA   \n",
       "\n",
       "             DOCUMENTO                 DATA  \\\n",
       "0             23489627  2021-01-21 00:00:00   \n",
       "1  2021-01-01 00:00:00  2021-01-05 00:00:00   \n",
       "2               001/21  2021-01-06 00:00:00   \n",
       "3                   10  2021-01-25 00:00:00   \n",
       "4                   44  2021-01-07 00:00:00   \n",
       "\n",
       "                                        DETALHAMENTO  VALOR_REEMBOLSADO  \\\n",
       "0  Pagamento de energia elétrica para uso do escr...              75.29   \n",
       "1  Despesa com pagamento de aluguel de imóvel par...            1000.00   \n",
       "2  Despesa com aluguel de imóvel para uso do escr...            6000.00   \n",
       "3                Divulgação da atividade parlamentar            1500.00   \n",
       "4                Divulgação da atividade parlamentar            6000.00   \n",
       "\n",
       "   COD_DOCUMENTO  \n",
       "0        2158003  \n",
       "1        2157367  \n",
       "2        2156383  \n",
       "3        2154509  \n",
       "4        2154507  "
      ]
     },
     "execution_count": 277,
     "metadata": {},
     "output_type": "execute_result"
    }
   ],
   "source": [
    "dados2021.head(5)"
   ]
  },
  {
   "cell_type": "code",
   "execution_count": 278,
   "id": "9eb25615",
   "metadata": {},
   "outputs": [
    {
     "data": {
      "text/html": [
       "<div>\n",
       "<style scoped>\n",
       "    .dataframe tbody tr th:only-of-type {\n",
       "        vertical-align: middle;\n",
       "    }\n",
       "\n",
       "    .dataframe tbody tr th {\n",
       "        vertical-align: top;\n",
       "    }\n",
       "\n",
       "    .dataframe thead th {\n",
       "        text-align: right;\n",
       "    }\n",
       "</style>\n",
       "<table border=\"1\" class=\"dataframe\">\n",
       "  <thead>\n",
       "    <tr style=\"text-align: right;\">\n",
       "      <th></th>\n",
       "      <th>ANO</th>\n",
       "      <th>MES</th>\n",
       "      <th>SENADOR</th>\n",
       "      <th>TIPO_DESPESA</th>\n",
       "      <th>CNPJ_CPF</th>\n",
       "      <th>FORNECEDOR</th>\n",
       "      <th>DOCUMENTO</th>\n",
       "      <th>DATA</th>\n",
       "      <th>DETALHAMENTO</th>\n",
       "      <th>VALOR_REEMBOLSADO</th>\n",
       "      <th>COD_DOCUMENTO</th>\n",
       "    </tr>\n",
       "  </thead>\n",
       "  <tbody>\n",
       "    <tr>\n",
       "      <th>0</th>\n",
       "      <td>2022</td>\n",
       "      <td>1</td>\n",
       "      <td>ACIR GURGACZ</td>\n",
       "      <td>Aluguel de imóveis para escritório político, c...</td>\n",
       "      <td>004.948.028-63</td>\n",
       "      <td>GILBERTO PISELO DO NASCIMENTO</td>\n",
       "      <td>001/22</td>\n",
       "      <td>2022-01-03</td>\n",
       "      <td>Despesa com pagamento de aluguel de imóvel par...</td>\n",
       "      <td>6000.0</td>\n",
       "      <td>2173614</td>\n",
       "    </tr>\n",
       "    <tr>\n",
       "      <th>1</th>\n",
       "      <td>2022</td>\n",
       "      <td>1</td>\n",
       "      <td>ACIR GURGACZ</td>\n",
       "      <td>Divulgação da atividade parlamentar</td>\n",
       "      <td>26.320.603/0001-64</td>\n",
       "      <td>INFORMANAHORA</td>\n",
       "      <td>000000000000310/A</td>\n",
       "      <td>2022-01-04</td>\n",
       "      <td>Despesa com divulgação da atividade parlamenta...</td>\n",
       "      <td>1500.0</td>\n",
       "      <td>2173615</td>\n",
       "    </tr>\n",
       "    <tr>\n",
       "      <th>2</th>\n",
       "      <td>2022</td>\n",
       "      <td>1</td>\n",
       "      <td>ACIR GURGACZ</td>\n",
       "      <td>Divulgação da atividade parlamentar</td>\n",
       "      <td>13.659.201/0001-47</td>\n",
       "      <td>LINHA PURPURA FOTO E VIDEO LTDA</td>\n",
       "      <td>107</td>\n",
       "      <td>2022-01-14</td>\n",
       "      <td>Despesa com produção de texto e edição de víde...</td>\n",
       "      <td>6000.0</td>\n",
       "      <td>2173616</td>\n",
       "    </tr>\n",
       "    <tr>\n",
       "      <th>3</th>\n",
       "      <td>2022</td>\n",
       "      <td>1</td>\n",
       "      <td>ACIR GURGACZ</td>\n",
       "      <td>Divulgação da atividade parlamentar</td>\n",
       "      <td>23.652.846/0001-01</td>\n",
       "      <td>ROBERTO GUTIERREZ DA ROCHA M.E.I.</td>\n",
       "      <td>187</td>\n",
       "      <td>2022-01-18</td>\n",
       "      <td>Divulgação da atividade parlamentar</td>\n",
       "      <td>1000.0</td>\n",
       "      <td>2173618</td>\n",
       "    </tr>\n",
       "    <tr>\n",
       "      <th>4</th>\n",
       "      <td>2022</td>\n",
       "      <td>1</td>\n",
       "      <td>ACIR GURGACZ</td>\n",
       "      <td>Divulgação da atividade parlamentar</td>\n",
       "      <td>08.941.827/0001-01</td>\n",
       "      <td>RONDONIA DINÂMICA COM. E SERV. DE INFORMÁTICA ...</td>\n",
       "      <td>000000000001772/A</td>\n",
       "      <td>2022-01-17</td>\n",
       "      <td>Divulgação da atividade parlamentar</td>\n",
       "      <td>2000.0</td>\n",
       "      <td>2173617</td>\n",
       "    </tr>\n",
       "  </tbody>\n",
       "</table>\n",
       "</div>"
      ],
      "text/plain": [
       "    ANO  MES       SENADOR                                       TIPO_DESPESA  \\\n",
       "0  2022    1  ACIR GURGACZ  Aluguel de imóveis para escritório político, c...   \n",
       "1  2022    1  ACIR GURGACZ                Divulgação da atividade parlamentar   \n",
       "2  2022    1  ACIR GURGACZ                Divulgação da atividade parlamentar   \n",
       "3  2022    1  ACIR GURGACZ                Divulgação da atividade parlamentar   \n",
       "4  2022    1  ACIR GURGACZ                Divulgação da atividade parlamentar   \n",
       "\n",
       "             CNPJ_CPF                                         FORNECEDOR  \\\n",
       "0      004.948.028-63                      GILBERTO PISELO DO NASCIMENTO   \n",
       "1  26.320.603/0001-64                                      INFORMANAHORA   \n",
       "2  13.659.201/0001-47                    LINHA PURPURA FOTO E VIDEO LTDA   \n",
       "3  23.652.846/0001-01                  ROBERTO GUTIERREZ DA ROCHA M.E.I.   \n",
       "4  08.941.827/0001-01  RONDONIA DINÂMICA COM. E SERV. DE INFORMÁTICA ...   \n",
       "\n",
       "           DOCUMENTO       DATA  \\\n",
       "0             001/22 2022-01-03   \n",
       "1  000000000000310/A 2022-01-04   \n",
       "2                107 2022-01-14   \n",
       "3                187 2022-01-18   \n",
       "4  000000000001772/A 2022-01-17   \n",
       "\n",
       "                                        DETALHAMENTO  VALOR_REEMBOLSADO  \\\n",
       "0  Despesa com pagamento de aluguel de imóvel par...             6000.0   \n",
       "1  Despesa com divulgação da atividade parlamenta...             1500.0   \n",
       "2  Despesa com produção de texto e edição de víde...             6000.0   \n",
       "3                Divulgação da atividade parlamentar             1000.0   \n",
       "4                Divulgação da atividade parlamentar             2000.0   \n",
       "\n",
       "   COD_DOCUMENTO  \n",
       "0        2173614  \n",
       "1        2173615  \n",
       "2        2173616  \n",
       "3        2173618  \n",
       "4        2173617  "
      ]
     },
     "execution_count": 278,
     "metadata": {},
     "output_type": "execute_result"
    }
   ],
   "source": [
    "dados2022.head(5)"
   ]
  },
  {
   "cell_type": "markdown",
   "id": "f73a3822",
   "metadata": {},
   "source": [
    "## Identificando os valores nulos"
   ]
  },
  {
   "cell_type": "code",
   "execution_count": 279,
   "id": "0e389adc",
   "metadata": {},
   "outputs": [
    {
     "name": "stdout",
     "output_type": "stream",
     "text": [
      "<class 'pandas.core.frame.DataFrame'>\n",
      "RangeIndex: 14090 entries, 0 to 14089\n",
      "Data columns (total 11 columns):\n",
      " #   Column             Non-Null Count  Dtype  \n",
      "---  ------             --------------  -----  \n",
      " 0   ANO                14090 non-null  int64  \n",
      " 1   MES                14090 non-null  int64  \n",
      " 2   SENADOR            14090 non-null  object \n",
      " 3   TIPO_DESPESA       14090 non-null  object \n",
      " 4   CNPJ_CPF           14090 non-null  object \n",
      " 5   FORNECEDOR         14090 non-null  object \n",
      " 6   DOCUMENTO          13470 non-null  object \n",
      " 7   DATA               14090 non-null  object \n",
      " 8   DETALHAMENTO       7228 non-null   object \n",
      " 9   VALOR_REEMBOLSADO  14090 non-null  float64\n",
      " 10  COD_DOCUMENTO      14090 non-null  int64  \n",
      "dtypes: float64(1), int64(3), object(7)\n",
      "memory usage: 1.2+ MB\n"
     ]
    }
   ],
   "source": [
    "#abaixo percebemos que são 14089 entradas, temos problemas nos dados DOCUMENTOS e DETALHAMENTO\n",
    "dados2020.info()"
   ]
  },
  {
   "cell_type": "code",
   "execution_count": 280,
   "id": "d56d6b34",
   "metadata": {},
   "outputs": [
    {
     "name": "stdout",
     "output_type": "stream",
     "text": [
      "<class 'pandas.core.frame.DataFrame'>\n",
      "RangeIndex: 16808 entries, 0 to 16807\n",
      "Data columns (total 11 columns):\n",
      " #   Column             Non-Null Count  Dtype  \n",
      "---  ------             --------------  -----  \n",
      " 0   ANO                16808 non-null  int64  \n",
      " 1   MES                16808 non-null  int64  \n",
      " 2   SENADOR            16808 non-null  object \n",
      " 3   TIPO_DESPESA       16808 non-null  object \n",
      " 4   CNPJ_CPF           16808 non-null  object \n",
      " 5   FORNECEDOR         16808 non-null  object \n",
      " 6   DOCUMENTO          16133 non-null  object \n",
      " 7   DATA               16808 non-null  object \n",
      " 8   DETALHAMENTO       9193 non-null   object \n",
      " 9   VALOR_REEMBOLSADO  16808 non-null  float64\n",
      " 10  COD_DOCUMENTO      16808 non-null  int64  \n",
      "dtypes: float64(1), int64(3), object(7)\n",
      "memory usage: 1.4+ MB\n"
     ]
    }
   ],
   "source": [
    "dados2021.info()"
   ]
  },
  {
   "cell_type": "code",
   "execution_count": 281,
   "id": "793147af",
   "metadata": {
    "scrolled": true
   },
   "outputs": [
    {
     "name": "stdout",
     "output_type": "stream",
     "text": [
      "<class 'pandas.core.frame.DataFrame'>\n",
      "RangeIndex: 3749 entries, 0 to 3748\n",
      "Data columns (total 11 columns):\n",
      " #   Column             Non-Null Count  Dtype         \n",
      "---  ------             --------------  -----         \n",
      " 0   ANO                3749 non-null   int64         \n",
      " 1   MES                3749 non-null   int64         \n",
      " 2   SENADOR            3749 non-null   object        \n",
      " 3   TIPO_DESPESA       3749 non-null   object        \n",
      " 4   CNPJ_CPF           3749 non-null   object        \n",
      " 5   FORNECEDOR         3749 non-null   object        \n",
      " 6   DOCUMENTO          3583 non-null   object        \n",
      " 7   DATA               3749 non-null   datetime64[ns]\n",
      " 8   DETALHAMENTO       1907 non-null   object        \n",
      " 9   VALOR_REEMBOLSADO  3749 non-null   float64       \n",
      " 10  COD_DOCUMENTO      3749 non-null   int64         \n",
      "dtypes: datetime64[ns](1), float64(1), int64(3), object(6)\n",
      "memory usage: 322.3+ KB\n"
     ]
    }
   ],
   "source": [
    "dados2022.info()"
   ]
  },
  {
   "cell_type": "code",
   "execution_count": 282,
   "id": "30508a1f",
   "metadata": {},
   "outputs": [],
   "source": [
    "#Considerando que a tabela já possui o campo Tipo De Despesa, decidi excluir a coluna detalhamento, por enquanto.\n",
    "#vamos excluir a coluna DETALHAMENTO"
   ]
  },
  {
   "cell_type": "code",
   "execution_count": 290,
   "id": "4280a046",
   "metadata": {},
   "outputs": [
    {
     "data": {
      "text/html": [
       "<div>\n",
       "<style scoped>\n",
       "    .dataframe tbody tr th:only-of-type {\n",
       "        vertical-align: middle;\n",
       "    }\n",
       "\n",
       "    .dataframe tbody tr th {\n",
       "        vertical-align: top;\n",
       "    }\n",
       "\n",
       "    .dataframe thead th {\n",
       "        text-align: right;\n",
       "    }\n",
       "</style>\n",
       "<table border=\"1\" class=\"dataframe\">\n",
       "  <thead>\n",
       "    <tr style=\"text-align: right;\">\n",
       "      <th></th>\n",
       "      <th>ANO</th>\n",
       "      <th>MES</th>\n",
       "      <th>SENADOR</th>\n",
       "      <th>TIPO_DESPESA</th>\n",
       "      <th>CNPJ_CPF</th>\n",
       "      <th>FORNECEDOR</th>\n",
       "      <th>DOCUMENTO</th>\n",
       "      <th>DATA</th>\n",
       "      <th>VALOR_REEMBOLSADO</th>\n",
       "      <th>COD_DOCUMENTO</th>\n",
       "    </tr>\n",
       "  </thead>\n",
       "  <tbody>\n",
       "    <tr>\n",
       "      <th>0</th>\n",
       "      <td>2020</td>\n",
       "      <td>1</td>\n",
       "      <td>ACIR GURGACZ</td>\n",
       "      <td>Aluguel de imóveis para escritório político, c...</td>\n",
       "      <td>05.914.650/0001-66</td>\n",
       "      <td>ENERGISA</td>\n",
       "      <td>14764742</td>\n",
       "      <td>2020-01-06 00:00:00</td>\n",
       "      <td>122.62</td>\n",
       "      <td>2141820</td>\n",
       "    </tr>\n",
       "    <tr>\n",
       "      <th>1</th>\n",
       "      <td>2020</td>\n",
       "      <td>1</td>\n",
       "      <td>ACIR GURGACZ</td>\n",
       "      <td>Aluguel de imóveis para escritório político, c...</td>\n",
       "      <td>05.914.650/0001-66</td>\n",
       "      <td>ENERGISA</td>\n",
       "      <td>14764741</td>\n",
       "      <td>2020-01-06 00:00:00</td>\n",
       "      <td>137.75</td>\n",
       "      <td>2141818</td>\n",
       "    </tr>\n",
       "    <tr>\n",
       "      <th>2</th>\n",
       "      <td>2020</td>\n",
       "      <td>1</td>\n",
       "      <td>ACIR GURGACZ</td>\n",
       "      <td>Aluguel de imóveis para escritório político, c...</td>\n",
       "      <td>062.135.728-64</td>\n",
       "      <td>FERNANDO WALDEIR PACINI e ANA LUCIA DA SILVA S...</td>\n",
       "      <td>001/2020</td>\n",
       "      <td>2020-01-06 00:00:00</td>\n",
       "      <td>1000.00</td>\n",
       "      <td>2139025</td>\n",
       "    </tr>\n",
       "    <tr>\n",
       "      <th>3</th>\n",
       "      <td>2020</td>\n",
       "      <td>1</td>\n",
       "      <td>ACIR GURGACZ</td>\n",
       "      <td>Aluguel de imóveis para escritório político, c...</td>\n",
       "      <td>004.948.028-63</td>\n",
       "      <td>GILBERTO PISELO DO NASCIMENTO</td>\n",
       "      <td>001/20</td>\n",
       "      <td>2020-01-02 00:00:00</td>\n",
       "      <td>6000.00</td>\n",
       "      <td>2139020</td>\n",
       "    </tr>\n",
       "    <tr>\n",
       "      <th>4</th>\n",
       "      <td>2020</td>\n",
       "      <td>1</td>\n",
       "      <td>ACIR GURGACZ</td>\n",
       "      <td>Aluguel de imóveis para escritório político, c...</td>\n",
       "      <td>05.423.963/0001-11</td>\n",
       "      <td>OI MÓVEL S.A.</td>\n",
       "      <td>333871612</td>\n",
       "      <td>2019-12-25 00:00:00</td>\n",
       "      <td>323.95</td>\n",
       "      <td>2139044</td>\n",
       "    </tr>\n",
       "  </tbody>\n",
       "</table>\n",
       "</div>"
      ],
      "text/plain": [
       "    ANO  MES       SENADOR                                       TIPO_DESPESA  \\\n",
       "0  2020    1  ACIR GURGACZ  Aluguel de imóveis para escritório político, c...   \n",
       "1  2020    1  ACIR GURGACZ  Aluguel de imóveis para escritório político, c...   \n",
       "2  2020    1  ACIR GURGACZ  Aluguel de imóveis para escritório político, c...   \n",
       "3  2020    1  ACIR GURGACZ  Aluguel de imóveis para escritório político, c...   \n",
       "4  2020    1  ACIR GURGACZ  Aluguel de imóveis para escritório político, c...   \n",
       "\n",
       "             CNPJ_CPF                                         FORNECEDOR  \\\n",
       "0  05.914.650/0001-66                                           ENERGISA   \n",
       "1  05.914.650/0001-66                                           ENERGISA   \n",
       "2      062.135.728-64  FERNANDO WALDEIR PACINI e ANA LUCIA DA SILVA S...   \n",
       "3      004.948.028-63                      GILBERTO PISELO DO NASCIMENTO   \n",
       "4  05.423.963/0001-11                                      OI MÓVEL S.A.   \n",
       "\n",
       "   DOCUMENTO                 DATA  VALOR_REEMBOLSADO  COD_DOCUMENTO  \n",
       "0   14764742  2020-01-06 00:00:00             122.62        2141820  \n",
       "1   14764741  2020-01-06 00:00:00             137.75        2141818  \n",
       "2   001/2020  2020-01-06 00:00:00            1000.00        2139025  \n",
       "3     001/20  2020-01-02 00:00:00            6000.00        2139020  \n",
       "4  333871612  2019-12-25 00:00:00             323.95        2139044  "
      ]
     },
     "execution_count": 290,
     "metadata": {},
     "output_type": "execute_result"
    }
   ],
   "source": [
    "dados2020.pop('DETALHAMENTO')\n",
    "dados2020.head(5)"
   ]
  },
  {
   "cell_type": "code",
   "execution_count": 291,
   "id": "5bdc4bb7",
   "metadata": {},
   "outputs": [
    {
     "data": {
      "text/html": [
       "<div>\n",
       "<style scoped>\n",
       "    .dataframe tbody tr th:only-of-type {\n",
       "        vertical-align: middle;\n",
       "    }\n",
       "\n",
       "    .dataframe tbody tr th {\n",
       "        vertical-align: top;\n",
       "    }\n",
       "\n",
       "    .dataframe thead th {\n",
       "        text-align: right;\n",
       "    }\n",
       "</style>\n",
       "<table border=\"1\" class=\"dataframe\">\n",
       "  <thead>\n",
       "    <tr style=\"text-align: right;\">\n",
       "      <th></th>\n",
       "      <th>ANO</th>\n",
       "      <th>MES</th>\n",
       "      <th>SENADOR</th>\n",
       "      <th>TIPO_DESPESA</th>\n",
       "      <th>CNPJ_CPF</th>\n",
       "      <th>FORNECEDOR</th>\n",
       "      <th>DOCUMENTO</th>\n",
       "      <th>DATA</th>\n",
       "      <th>VALOR_REEMBOLSADO</th>\n",
       "      <th>COD_DOCUMENTO</th>\n",
       "    </tr>\n",
       "  </thead>\n",
       "  <tbody>\n",
       "    <tr>\n",
       "      <th>0</th>\n",
       "      <td>2021</td>\n",
       "      <td>1</td>\n",
       "      <td>ACIR GURGACZ</td>\n",
       "      <td>Aluguel de imóveis para escritório político, c...</td>\n",
       "      <td>05.914.650/0001-66</td>\n",
       "      <td>ENERGISA</td>\n",
       "      <td>23489627</td>\n",
       "      <td>2021-01-21 00:00:00</td>\n",
       "      <td>75.29</td>\n",
       "      <td>2158003</td>\n",
       "    </tr>\n",
       "    <tr>\n",
       "      <th>1</th>\n",
       "      <td>2021</td>\n",
       "      <td>1</td>\n",
       "      <td>ACIR GURGACZ</td>\n",
       "      <td>Aluguel de imóveis para escritório político, c...</td>\n",
       "      <td>062.135.728-64</td>\n",
       "      <td>FERNANDO WALDEIR PACINI e ANA LUCIA DA SILVA S...</td>\n",
       "      <td>2021-01-01 00:00:00</td>\n",
       "      <td>2021-01-05 00:00:00</td>\n",
       "      <td>1000.00</td>\n",
       "      <td>2157367</td>\n",
       "    </tr>\n",
       "  </tbody>\n",
       "</table>\n",
       "</div>"
      ],
      "text/plain": [
       "    ANO  MES       SENADOR                                       TIPO_DESPESA  \\\n",
       "0  2021    1  ACIR GURGACZ  Aluguel de imóveis para escritório político, c...   \n",
       "1  2021    1  ACIR GURGACZ  Aluguel de imóveis para escritório político, c...   \n",
       "\n",
       "             CNPJ_CPF                                         FORNECEDOR  \\\n",
       "0  05.914.650/0001-66                                           ENERGISA   \n",
       "1      062.135.728-64  FERNANDO WALDEIR PACINI e ANA LUCIA DA SILVA S...   \n",
       "\n",
       "             DOCUMENTO                 DATA  VALOR_REEMBOLSADO  COD_DOCUMENTO  \n",
       "0             23489627  2021-01-21 00:00:00              75.29        2158003  \n",
       "1  2021-01-01 00:00:00  2021-01-05 00:00:00            1000.00        2157367  "
      ]
     },
     "execution_count": 291,
     "metadata": {},
     "output_type": "execute_result"
    }
   ],
   "source": [
    "dados2021.pop('DETALHAMENTO')\n",
    "dados2021.head(2)"
   ]
  },
  {
   "cell_type": "code",
   "execution_count": 292,
   "id": "f5a05eb8",
   "metadata": {},
   "outputs": [
    {
     "data": {
      "text/html": [
       "<div>\n",
       "<style scoped>\n",
       "    .dataframe tbody tr th:only-of-type {\n",
       "        vertical-align: middle;\n",
       "    }\n",
       "\n",
       "    .dataframe tbody tr th {\n",
       "        vertical-align: top;\n",
       "    }\n",
       "\n",
       "    .dataframe thead th {\n",
       "        text-align: right;\n",
       "    }\n",
       "</style>\n",
       "<table border=\"1\" class=\"dataframe\">\n",
       "  <thead>\n",
       "    <tr style=\"text-align: right;\">\n",
       "      <th></th>\n",
       "      <th>ANO</th>\n",
       "      <th>MES</th>\n",
       "      <th>SENADOR</th>\n",
       "      <th>TIPO_DESPESA</th>\n",
       "      <th>CNPJ_CPF</th>\n",
       "      <th>FORNECEDOR</th>\n",
       "      <th>DOCUMENTO</th>\n",
       "      <th>DATA</th>\n",
       "      <th>VALOR_REEMBOLSADO</th>\n",
       "      <th>COD_DOCUMENTO</th>\n",
       "    </tr>\n",
       "  </thead>\n",
       "  <tbody>\n",
       "    <tr>\n",
       "      <th>0</th>\n",
       "      <td>2022</td>\n",
       "      <td>1</td>\n",
       "      <td>ACIR GURGACZ</td>\n",
       "      <td>Aluguel de imóveis para escritório político, c...</td>\n",
       "      <td>004.948.028-63</td>\n",
       "      <td>GILBERTO PISELO DO NASCIMENTO</td>\n",
       "      <td>001/22</td>\n",
       "      <td>2022-01-03</td>\n",
       "      <td>6000.0</td>\n",
       "      <td>2173614</td>\n",
       "    </tr>\n",
       "    <tr>\n",
       "      <th>1</th>\n",
       "      <td>2022</td>\n",
       "      <td>1</td>\n",
       "      <td>ACIR GURGACZ</td>\n",
       "      <td>Divulgação da atividade parlamentar</td>\n",
       "      <td>26.320.603/0001-64</td>\n",
       "      <td>INFORMANAHORA</td>\n",
       "      <td>000000000000310/A</td>\n",
       "      <td>2022-01-04</td>\n",
       "      <td>1500.0</td>\n",
       "      <td>2173615</td>\n",
       "    </tr>\n",
       "  </tbody>\n",
       "</table>\n",
       "</div>"
      ],
      "text/plain": [
       "    ANO  MES       SENADOR                                       TIPO_DESPESA  \\\n",
       "0  2022    1  ACIR GURGACZ  Aluguel de imóveis para escritório político, c...   \n",
       "1  2022    1  ACIR GURGACZ                Divulgação da atividade parlamentar   \n",
       "\n",
       "             CNPJ_CPF                     FORNECEDOR          DOCUMENTO  \\\n",
       "0      004.948.028-63  GILBERTO PISELO DO NASCIMENTO             001/22   \n",
       "1  26.320.603/0001-64                  INFORMANAHORA  000000000000310/A   \n",
       "\n",
       "        DATA  VALOR_REEMBOLSADO  COD_DOCUMENTO  \n",
       "0 2022-01-03             6000.0        2173614  \n",
       "1 2022-01-04             1500.0        2173615  "
      ]
     },
     "execution_count": 292,
     "metadata": {},
     "output_type": "execute_result"
    }
   ],
   "source": [
    "dados2022.pop('DETALHAMENTO')\n",
    "dados2022.head(2)"
   ]
  },
  {
   "cell_type": "markdown",
   "id": "0b233d03",
   "metadata": {},
   "source": [
    "# Sobre o nulos na coluna DOCUMENTO"
   ]
  },
  {
   "cell_type": "code",
   "execution_count": 293,
   "id": "b9e6fd96",
   "metadata": {},
   "outputs": [
    {
     "data": {
      "text/plain": [
       "0"
      ]
     },
     "execution_count": 293,
     "metadata": {},
     "output_type": "execute_result"
    }
   ],
   "source": [
    "#sobre os documentos nulos \n",
    "#decidi preencher com a frase 'não informado' os documentos nulos. \n",
    "dados2020[dados2020['DOCUMENTO'].isnull()].shape[0]"
   ]
  },
  {
   "cell_type": "code",
   "execution_count": 294,
   "id": "b66f2267",
   "metadata": {},
   "outputs": [],
   "source": [
    "dados2020['DOCUMENTO'].fillna(('não informado'), inplace = True)"
   ]
  },
  {
   "cell_type": "code",
   "execution_count": 295,
   "id": "9af2095f",
   "metadata": {},
   "outputs": [
    {
     "data": {
      "text/plain": [
       "0"
      ]
     },
     "execution_count": 295,
     "metadata": {},
     "output_type": "execute_result"
    }
   ],
   "source": [
    "dados2020[dados2020['DOCUMENTO'].isnull()].shape[0]"
   ]
  },
  {
   "cell_type": "code",
   "execution_count": 296,
   "id": "ef14de97",
   "metadata": {},
   "outputs": [
    {
     "name": "stdout",
     "output_type": "stream",
     "text": [
      "<class 'pandas.core.frame.DataFrame'>\n",
      "RangeIndex: 14090 entries, 0 to 14089\n",
      "Data columns (total 10 columns):\n",
      " #   Column             Non-Null Count  Dtype  \n",
      "---  ------             --------------  -----  \n",
      " 0   ANO                14090 non-null  int64  \n",
      " 1   MES                14090 non-null  int64  \n",
      " 2   SENADOR            14090 non-null  object \n",
      " 3   TIPO_DESPESA       14090 non-null  object \n",
      " 4   CNPJ_CPF           14090 non-null  object \n",
      " 5   FORNECEDOR         14090 non-null  object \n",
      " 6   DOCUMENTO          14090 non-null  object \n",
      " 7   DATA               14090 non-null  object \n",
      " 8   VALOR_REEMBOLSADO  14090 non-null  float64\n",
      " 9   COD_DOCUMENTO      14090 non-null  int64  \n",
      "dtypes: float64(1), int64(3), object(6)\n",
      "memory usage: 1.1+ MB\n"
     ]
    }
   ],
   "source": [
    "#agora sim não temos nada nulo\n",
    "dados2020.info()"
   ]
  },
  {
   "cell_type": "markdown",
   "id": "36e0f3f9",
   "metadata": {},
   "source": [
    "# 2021"
   ]
  },
  {
   "cell_type": "code",
   "execution_count": 297,
   "id": "553c3ac0",
   "metadata": {
    "scrolled": true
   },
   "outputs": [
    {
     "name": "stdout",
     "output_type": "stream",
     "text": [
      "<class 'pandas.core.frame.DataFrame'>\n",
      "RangeIndex: 16808 entries, 0 to 16807\n",
      "Data columns (total 10 columns):\n",
      " #   Column             Non-Null Count  Dtype  \n",
      "---  ------             --------------  -----  \n",
      " 0   ANO                16808 non-null  int64  \n",
      " 1   MES                16808 non-null  int64  \n",
      " 2   SENADOR            16808 non-null  object \n",
      " 3   TIPO_DESPESA       16808 non-null  object \n",
      " 4   CNPJ_CPF           16808 non-null  object \n",
      " 5   FORNECEDOR         16808 non-null  object \n",
      " 6   DOCUMENTO          16808 non-null  object \n",
      " 7   DATA               16808 non-null  object \n",
      " 8   VALOR_REEMBOLSADO  16808 non-null  float64\n",
      " 9   COD_DOCUMENTO      16808 non-null  int64  \n",
      "dtypes: float64(1), int64(3), object(6)\n",
      "memory usage: 1.3+ MB\n"
     ]
    }
   ],
   "source": [
    "dados2021[dados2021['DOCUMENTO'].isnull()].shape[0]\n",
    "dados2021['DOCUMENTO'].fillna(('não informado'), inplace = True)\n",
    "dados2021[dados2021['DOCUMENTO'].isnull()].shape[0]\n",
    "#agora sim não temos nada nulo\n",
    "dados2021.info()"
   ]
  },
  {
   "cell_type": "markdown",
   "id": "4808ec85",
   "metadata": {},
   "source": [
    "# 2022"
   ]
  },
  {
   "cell_type": "code",
   "execution_count": 298,
   "id": "c517ef44",
   "metadata": {},
   "outputs": [
    {
     "name": "stdout",
     "output_type": "stream",
     "text": [
      "<class 'pandas.core.frame.DataFrame'>\n",
      "RangeIndex: 3749 entries, 0 to 3748\n",
      "Data columns (total 10 columns):\n",
      " #   Column             Non-Null Count  Dtype         \n",
      "---  ------             --------------  -----         \n",
      " 0   ANO                3749 non-null   int64         \n",
      " 1   MES                3749 non-null   int64         \n",
      " 2   SENADOR            3749 non-null   object        \n",
      " 3   TIPO_DESPESA       3749 non-null   object        \n",
      " 4   CNPJ_CPF           3749 non-null   object        \n",
      " 5   FORNECEDOR         3749 non-null   object        \n",
      " 6   DOCUMENTO          3749 non-null   object        \n",
      " 7   DATA               3749 non-null   datetime64[ns]\n",
      " 8   VALOR_REEMBOLSADO  3749 non-null   float64       \n",
      " 9   COD_DOCUMENTO      3749 non-null   int64         \n",
      "dtypes: datetime64[ns](1), float64(1), int64(3), object(5)\n",
      "memory usage: 293.0+ KB\n"
     ]
    }
   ],
   "source": [
    "dados2022[dados2022['DOCUMENTO'].isnull()].shape[0]\n",
    "dados2022['DOCUMENTO'].fillna(('não informado'), inplace = True)\n",
    "dados2022[dados2022['DOCUMENTO'].isnull()].shape[0]\n",
    "#agora sim não temos nada nulo\n",
    "dados2022.info()"
   ]
  },
  {
   "cell_type": "markdown",
   "id": "516aa52b",
   "metadata": {},
   "source": [
    "# removendo duplicados\n",
    "# fiz o drop duplicate e parece que não existem duplicados"
   ]
  },
  {
   "cell_type": "code",
   "execution_count": 301,
   "id": "3b240761",
   "metadata": {},
   "outputs": [],
   "source": [
    "#penso que o ideal é fazer o drop duplicates na coluna documento -\n",
    "#porque em tese é o numero que não se repete, talvez seria como um ID"
   ]
  },
  {
   "cell_type": "code",
   "execution_count": 289,
   "id": "4e7adfc2",
   "metadata": {},
   "outputs": [
    {
     "data": {
      "text/plain": [
       "0         14764742\n",
       "1         14764741\n",
       "2         001/2020\n",
       "3           001/20\n",
       "4        333871612\n",
       "           ...    \n",
       "14085       TJ9NGF\n",
       "14086       QN9KHE\n",
       "14087       QIGVKT\n",
       "14088       QDHKYF\n",
       "14089       BQWCVK\n",
       "Name: DOCUMENTO, Length: 10751, dtype: object"
      ]
     },
     "execution_count": 289,
     "metadata": {},
     "output_type": "execute_result"
    }
   ],
   "source": [
    "dados2020['DOCUMENTO'].drop_duplicates()"
   ]
  },
  {
   "cell_type": "code",
   "execution_count": 299,
   "id": "edd9f91b",
   "metadata": {},
   "outputs": [
    {
     "data": {
      "text/plain": [
       "0                   23489627\n",
       "1        2021-01-01 00:00:00\n",
       "2                     001/21\n",
       "3                         10\n",
       "4                         44\n",
       "                ...         \n",
       "16803                 GDAONA\n",
       "16804                 JFQVZP\n",
       "16805                 SSKEOB\n",
       "16806                 ZICCEX\n",
       "16807                 LM6FSK\n",
       "Name: DOCUMENTO, Length: 13724, dtype: object"
      ]
     },
     "execution_count": 299,
     "metadata": {},
     "output_type": "execute_result"
    }
   ],
   "source": [
    "dados2021['DOCUMENTO'].drop_duplicates()"
   ]
  },
  {
   "cell_type": "code",
   "execution_count": 300,
   "id": "7be236cc",
   "metadata": {},
   "outputs": [
    {
     "data": {
      "text/plain": [
       "0                  001/22\n",
       "1       000000000000310/A\n",
       "2                     107\n",
       "3                     187\n",
       "4       000000000001772/A\n",
       "              ...        \n",
       "3744               FXMSVF\n",
       "3745               VLNWSC\n",
       "3746               QVOLRY\n",
       "3747               JBHH5Y\n",
       "3748               FRFFFI\n",
       "Name: DOCUMENTO, Length: 3198, dtype: object"
      ]
     },
     "execution_count": 300,
     "metadata": {},
     "output_type": "execute_result"
    }
   ],
   "source": [
    "dados2022['DOCUMENTO'].drop_duplicates()"
   ]
  },
  {
   "cell_type": "markdown",
   "id": "87c96169",
   "metadata": {},
   "source": [
    "## Que tal juntar dados de vários anos em um grande dataset e aplicar técnicas de limpeza e processamento dos dados?"
   ]
  },
  {
   "cell_type": "code",
   "execution_count": 302,
   "id": "3f28051f",
   "metadata": {},
   "outputs": [],
   "source": [
    "# resolvi juntar os anos em um dataset unico depois das limpezas\n",
    "# será o correto?\n"
   ]
  },
  {
   "cell_type": "code",
   "execution_count": 304,
   "id": "db2ee9b2",
   "metadata": {},
   "outputs": [],
   "source": [
    "#pd.concat([tabela_1, tabela_3])\n",
    "dados_geral = pd.concat([dados2020, dados2021, dados2022])"
   ]
  },
  {
   "cell_type": "code",
   "execution_count": 307,
   "id": "bd812678",
   "metadata": {},
   "outputs": [
    {
     "name": "stdout",
     "output_type": "stream",
     "text": [
      "<class 'pandas.core.frame.DataFrame'>\n",
      "Int64Index: 34647 entries, 0 to 3748\n",
      "Data columns (total 10 columns):\n",
      " #   Column             Non-Null Count  Dtype  \n",
      "---  ------             --------------  -----  \n",
      " 0   ANO                34647 non-null  int64  \n",
      " 1   MES                34647 non-null  int64  \n",
      " 2   SENADOR            34647 non-null  object \n",
      " 3   TIPO_DESPESA       34647 non-null  object \n",
      " 4   CNPJ_CPF           34647 non-null  object \n",
      " 5   FORNECEDOR         34647 non-null  object \n",
      " 6   DOCUMENTO          34647 non-null  object \n",
      " 7   DATA               34647 non-null  object \n",
      " 8   VALOR_REEMBOLSADO  34647 non-null  float64\n",
      " 9   COD_DOCUMENTO      34647 non-null  int64  \n",
      "dtypes: float64(1), int64(3), object(6)\n",
      "memory usage: 2.9+ MB\n"
     ]
    }
   ],
   "source": [
    "dados_geral.info()"
   ]
  },
  {
   "cell_type": "code",
   "execution_count": 308,
   "id": "2484127c",
   "metadata": {},
   "outputs": [],
   "source": [
    "dados_geral.to_excel('dados_geral.xlsx',index = False)"
   ]
  },
  {
   "cell_type": "code",
   "execution_count": null,
   "id": "f5edd4fc",
   "metadata": {},
   "outputs": [],
   "source": []
  }
 ],
 "metadata": {
  "kernelspec": {
   "display_name": "Python 3 (ipykernel)",
   "language": "python",
   "name": "python3"
  },
  "language_info": {
   "codemirror_mode": {
    "name": "ipython",
    "version": 3
   },
   "file_extension": ".py",
   "mimetype": "text/x-python",
   "name": "python",
   "nbconvert_exporter": "python",
   "pygments_lexer": "ipython3",
   "version": "3.9.7"
  }
 },
 "nbformat": 4,
 "nbformat_minor": 5
}
